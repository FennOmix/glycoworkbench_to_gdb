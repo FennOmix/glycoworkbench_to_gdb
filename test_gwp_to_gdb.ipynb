{
 "cells": [
  {
   "cell_type": "code",
   "execution_count": null,
   "metadata": {},
   "outputs": [],
   "source": [
    "from glycoworkbench_to_gdb import parse_gwp\n",
    "\n",
    "parse_gwp(\n",
    "    \"test_data/test.gwp\",\n",
    "    \"test_data/test_out.gdb\",\n",
    "    max_glycan_len=100,\n",
    "    use_old_gdb_format=True\n",
    ")"
   ]
  }
 ],
 "metadata": {
  "kernelspec": {
   "display_name": "base",
   "language": "python",
   "name": "python3"
  },
  "language_info": {
   "codemirror_mode": {
    "name": "ipython",
    "version": 3
   },
   "file_extension": ".py",
   "mimetype": "text/x-python",
   "name": "python",
   "nbconvert_exporter": "python",
   "pygments_lexer": "ipython3",
   "version": "3.9.12"
  }
 },
 "nbformat": 4,
 "nbformat_minor": 2
}
